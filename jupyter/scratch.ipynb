{
 "cells": [
  {
   "cell_type": "code",
   "execution_count": 2,
   "metadata": {},
   "outputs": [
    {
     "name": "stdout",
     "output_type": "stream",
     "text": [
      "\n",
      "\n",
      "    1;\n",
      "    2;\n",
      "\n",
      "    3;\n",
      "    4;\n",
      "\n",
      "    5;\n",
      "    6;\n",
      "\n",
      "    7;\n",
      "    8;\n",
      "\n"
     ]
    }
   ],
   "source": [
    "from jinja2 import Environment\n",
    "\n",
    "TEMPLATE = \"\"\"\n",
    "{% for item in items %}\n",
    "    {{ item[0] }};\n",
    "    {{ item[1] }};\n",
    "{% endfor %}\n",
    "\"\"\"\n",
    "\n",
    "template = Environment().from_string(TEMPLATE)\n",
    "\n",
    "items = [(1,2), (3,4), (5,6), (7,8)]\n",
    "\n",
    "print (template.render(items=items))"
   ]
  },
  {
   "cell_type": "code",
   "execution_count": 6,
   "metadata": {},
   "outputs": [
    {
     "name": "stdout",
     "output_type": "stream",
     "text": [
      "\n",
      "\n",
      "    \n",
      "    foo : boz;\n",
      "\n",
      "    \n",
      "    baz : fooz;\n",
      "\n"
     ]
    }
   ],
   "source": [
    "from jinja2 import Environment\n",
    "\n",
    "TEMPLATE = \"\"\"\n",
    "{% for key, bot in dicto.items() %}\n",
    "    {% set v = 'fooz' if bot == \"quux\" else 'boz' %}\n",
    "    {{ key }} : {{ v }};\n",
    "{% endfor %}\n",
    "\"\"\"\n",
    "\n",
    "template = Environment().from_string(TEMPLATE)\n",
    "\n",
    "mydict = { \"foo\" : \"bar\", \"baz\" : \"quux\" }\n",
    "\n",
    "print (template.render(dicto=mydict))"
   ]
  },
  {
   "cell_type": "code",
   "execution_count": 16,
   "metadata": {},
   "outputs": [
    {
     "name": "stdout",
     "output_type": "stream",
     "text": [
      "last message:  None\n"
     ]
    }
   ],
   "source": [
    "user = \"Alice\"\n",
    "user = \"chris\"\n",
    "last_message = None\n",
    "table_lines = [ { \"user\" : \"chris\", \"message\" : \"hi\" }, \n",
    "                { \"user\" : \"Alice\", \"message\" : \"hello\" }\n",
    "              ]\n",
    "table_lines = []\n",
    "if table_lines:\n",
    "    last_line = table_lines[-1]\n",
    "    # if the last line was not me - prime the suggestions with the last message\n",
    "    if last_line[\"user\"] != user:\n",
    "        last_message = last_line[\"message\"]\n",
    "    \n",
    "print(\"last message: \", last_message)\n",
    "    "
   ]
  }
 ],
 "metadata": {
  "kernelspec": {
   "display_name": "Python 3",
   "language": "python",
   "name": "python3"
  },
  "language_info": {
   "codemirror_mode": {
    "name": "ipython",
    "version": 3
   },
   "file_extension": ".py",
   "mimetype": "text/x-python",
   "name": "python",
   "nbconvert_exporter": "python",
   "pygments_lexer": "ipython3",
   "version": "3.7.3"
  }
 },
 "nbformat": 4,
 "nbformat_minor": 1
}
